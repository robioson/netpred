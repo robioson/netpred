{
 "cells": [
  {
   "cell_type": "code",
   "execution_count": 1,
   "metadata": {},
   "outputs": [
    {
     "name": "stderr",
     "output_type": "stream",
     "text": [
      "2022-04-10 12:56:48 Decompressing full_protein_dssp_annotations.json.gz\n",
      "2022-04-10 12:56:49 Decompressing single_domain_dssp_annotations.json.gz\n",
      "2022-04-10 12:56:56 Parsing casp11/validation...\n"
     ]
    },
    {
     "name": "stdout",
     "output_type": "stream",
     "text": [
      "NetPred(\n",
      "  (prediction): PredictionNetwork(\n",
      "    (stack): Sequential(\n",
      "      (0): Linear(in_features=594, out_features=243, bias=True)\n",
      "      (1): ReLU()\n",
      "      (2): Linear(in_features=243, out_features=81, bias=True)\n",
      "    )\n",
      "  )\n",
      "  (relu): ReLU()\n",
      "  (filtering): FilteringNetwork(\n",
      "    (stack): Sequential(\n",
      "      (0): Linear(in_features=81, out_features=81, bias=True)\n",
      "      (1): ReLU()\n",
      "      (2): Linear(in_features=81, out_features=3, bias=True)\n",
      "    )\n",
      "  )\n",
      ")\n"
     ]
    },
    {
     "name": "stderr",
     "output_type": "stream",
     "text": [
      "2022-04-10 12:56:56 Loaded 223 sequences from casp11/validation.\n",
      "2022-04-10 12:56:56 Creating windows for casp11/validation ...\n",
      "2022-04-10 12:56:57 Windowing complete for casp11/validation (created 48979 windows).\n"
     ]
    }
   ],
   "source": [
    "from netpred.analysis import *\n",
    "from sklearn.metrics import confusion_matrix\n",
    "import seaborn as sns\n",
    "\n",
    "# configure settings for all plots\n",
    "plt.rcParams.update({'font.size': 12})"
   ]
  },
  {
   "cell_type": "code",
   "execution_count": 2,
   "metadata": {
    "pycharm": {
     "name": "#%%\n"
    }
   },
   "outputs": [
    {
     "name": "stdout",
     "output_type": "stream",
     "text": [
      "distribution [H E C] [33.91045142 22.2728108  43.81673779]\n",
      "probability squared 35.659033263149475\n"
     ]
    }
   ],
   "source": [
    "# distribution of states in test set\n",
    "state_pmf = np.zeros(3)\n",
    "for _, target in test_set:\n",
    "    state_pmf[target] += 1\n",
    "\n",
    "state_pmf /= np.sum(state_pmf)\n",
    "\n",
    "print('distribution [H E C]', state_pmf * 100)\n",
    "print('probability squared', np.sum(state_pmf * state_pmf) * 100)"
   ]
  },
  {
   "cell_type": "code",
   "execution_count": 3,
   "metadata": {
    "pycharm": {
     "name": "#%%\n"
    }
   },
   "outputs": [
    {
     "name": "stdout",
     "output_type": "stream",
     "text": [
      "Residue accuracy: 81.9126546382904\n"
     ]
    }
   ],
   "source": [
    "# accuracy over all residues\n",
    "y_true, y_pred = [], []\n",
    "for window, target in test_set:\n",
    "    prediction = net(window.reshape(1, PSSM_ROWS * WINDOW_SIZE)).argmax().item()\n",
    "    y_true.append(target)\n",
    "    y_pred.append(prediction)\n",
    "\n",
    "residue_accuracy = torch.count_nonzero(torch.tensor(y_pred) == torch.tensor(y_true)) / len(y_true)\n",
    "print('Residue accuracy:', residue_accuracy.item() * 100)"
   ]
  },
  {
   "cell_type": "code",
   "execution_count": 4,
   "metadata": {
    "pycharm": {
     "name": "#%%\n"
    }
   },
   "outputs": [
    {
     "name": "stdout",
     "output_type": "stream",
     "text": [
      "mean accuracy: 81.97923302650452\n",
      "std: 0.07412424683570862\n"
     ]
    }
   ],
   "source": [
    "# accuracy over all proteins\n",
    "protein_results = []\n",
    "last = torch.ones(7)\n",
    "for window, target in test_set:\n",
    "    if window[-1, :WINDOW_CENTRE].sum().item() == WINDOW_CENTRE:  # if start of protein\n",
    "        protein_results.append(torch.zeros(2))\n",
    "\n",
    "    prediction = net(window.reshape(1, PSSM_ROWS * WINDOW_SIZE)).argmax().item()\n",
    "    protein_results[-1] += torch.tensor([int(prediction == target), 1])\n",
    "\n",
    "protein_results = torch.stack(protein_results)\n",
    "protein_accuracies = protein_results[:, 0] / protein_results[:, 1]\n",
    "\n",
    "std, mean = torch.std_mean(protein_accuracies)\n",
    "print('mean accuracy:', mean.item() * 100)\n",
    "print('std:', std.item())"
   ]
  },
  {
   "cell_type": "code",
   "execution_count": 5,
   "metadata": {
    "pycharm": {
     "name": "#%%\n"
    }
   },
   "outputs": [
    {
     "name": "stdout",
     "output_type": "stream",
     "text": [
      "Confusion matrix\n"
     ]
    },
    {
     "data": {
      "image/png": "[encoded data removed]",
      "text/plain": [
       "<Figure size 288x288 with 1 Axes>"
      ]
     },
     "metadata": {
      "needs_background": "light"
     },
     "output_type": "display_data"
    }
   ],
   "source": [
    "# confusion matrix\n",
    "confusion = confusion_matrix(y_true, y_pred, normalize='true')\n",
    "\n",
    "_, ax = plt.subplots(figsize=[4, 4])\n",
    "\n",
    "p = sns.heatmap(confusion,\n",
    "            cmap='PuBu',\n",
    "            square=True,\n",
    "            xticklabels=tick_labels,\n",
    "            yticklabels=tick_labels,\n",
    "            annot=True,\n",
    "            fmt='.1%',\n",
    "            cbar=False,\n",
    "            linewidth=1,\n",
    "            ax=ax)\n",
    "\n",
    "p.set_xlabel('Predicted', weight='bold')\n",
    "p.set_ylabel('Truth', weight='bold')\n",
    "plt.yticks(rotation=0)\n",
    "plt.savefig('confusion.pdf')\n",
    "print('Confusion matrix')"
   ]
  }
 ],
 "metadata": {
  "kernelspec": {
   "display_name": "Python 3 (ipykernel)",
   "language": "python",
   "name": "python3"
  },
  "language_info": {
   "codemirror_mode": {
    "name": "ipython",
    "version": 3
   },
   "file_extension": ".py",
   "mimetype": "text/x-python",
   "name": "python",
   "nbconvert_exporter": "python",
   "pygments_lexer": "ipython3",
   "version": "3.9.9"
  }
 },
 "nbformat": 4,
 "nbformat_minor": 1
}
